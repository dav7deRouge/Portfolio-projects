{
  "nbformat": 4,
  "nbformat_minor": 0,
  "metadata": {
    "colab": {
      "name": "Classification Project_MNIST.ipynb",
      "provenance": [],
      "collapsed_sections": [
        "NGVt8JW8j5yS"
      ]
    },
    "kernelspec": {
      "name": "python3",
      "display_name": "Python 3"
    },
    "language_info": {
      "name": "python"
    },
    "accelerator": "GPU",
    "gpuClass": "standard"
  },
  "cells": [
    {
      "cell_type": "markdown",
      "source": [
        "Required libraries"
      ],
      "metadata": {
        "id": "diPKnaRijoUl"
      }
    },
    {
      "cell_type": "code",
      "source": [
        "import numpy as np\n",
        "import matplotlib as mpl\n",
        "import matplotlib.pyplot as plt\n",
        "from matplotlib.pyplot import figure\n",
        "\n",
        "import tensorflow as tf\n",
        "from tensorflow import keras\n",
        "from keras import layers\n",
        "\n",
        "from sklearn.model_selection import train_test_split"
      ],
      "metadata": {
        "id": "c0n27HG9jagz"
      },
      "execution_count": 71,
      "outputs": []
    },
    {
      "cell_type": "markdown",
      "source": [
        "## Import the MNIST collection of images"
      ],
      "metadata": {
        "id": "NGVt8JW8j5yS"
      }
    },
    {
      "cell_type": "code",
      "source": [
        "from keras.datasets import mnist\n",
        "\n",
        "(train_x, train_y), (test_x, test_y) = mnist.load_data()\n",
        "print(\n",
        "    f\"Train_x = {train_x.shape}\\nTrain_y = {train_y.shape}\\nTest_x = {test_x.shape}\\nTest_y = {test_y.shape}\"\n",
        ")"
      ],
      "metadata": {
        "colab": {
          "base_uri": "https://localhost:8080/"
        },
        "id": "7pzh471wj92P",
        "outputId": "e97c6207-a396-45fd-d5fe-a9174a45533c"
      },
      "execution_count": 22,
      "outputs": [
        {
          "output_type": "stream",
          "name": "stdout",
          "text": [
            "Train_x = (60000, 28, 28)\n",
            "Train_y = (60000,)\n",
            "Test_x = (10000, 28, 28)\n",
            "Test_y = (10000,)\n"
          ]
        }
      ]
    },
    {
      "cell_type": "code",
      "source": [
        "# More infos\n",
        "print(\n",
        "    f\"Labels = {np.unique(train_y)}\"\n",
        ")\n",
        "print(\n",
        "    f\"Train_x values = ({train_x.min()}, {train_x.max()})\\nTest_x values = ({test_x.min()}, {test_x.max()})\"\n",
        ")"
      ],
      "metadata": {
        "colab": {
          "base_uri": "https://localhost:8080/"
        },
        "id": "eZeeCbBg0dSy",
        "outputId": "4c268423-9f9e-4b04-f3b2-be27ff10f686"
      },
      "execution_count": 23,
      "outputs": [
        {
          "output_type": "stream",
          "name": "stdout",
          "text": [
            "Labels = [0 1 2 3 4 5 6 7 8 9]\n",
            "Train_x values = (0, 255)\n",
            "Test_x values = (0, 255)\n"
          ]
        }
      ]
    },
    {
      "cell_type": "code",
      "source": [
        "# Plotting the images\n",
        "fig, ax = plt.subplots(3, 3)\n",
        "for i in range(3):\n",
        "  for j in range(3):\n",
        "    ax[i][j].imshow(train_x[i + j], cmap = plt.get_cmap('gray'))\n",
        "    ax[i][j].set_xticks([])\n",
        "    ax[i][j].set_yticks([])\n",
        "fig.suptitle(\"Images from MNIST dataset\")\n",
        "plt.show()"
      ],
      "metadata": {
        "colab": {
          "base_uri": "https://localhost:8080/",
          "height": 281
        },
        "id": "v4lpIJZvk76H",
        "outputId": "c5816ef2-7e3d-49da-d566-1fddef6fe462"
      },
      "execution_count": 24,
      "outputs": [
        {
          "output_type": "display_data",
          "data": {
            "text/plain": [
              "<Figure size 432x288 with 9 Axes>"
            ],
            "image/png": "[encoded data removed]"
          },
          "metadata": {}
        }
      ]
    },
    {
      "cell_type": "markdown",
      "source": [
        "## First try with a Shallow Neural Network\n"
      ],
      "metadata": {
        "id": "Eu4NdouusNfX"
      }
    },
    {
      "cell_type": "markdown",
      "source": [
        "*create_model* functions allows us to create different kinds of shallow neural network by passing the number of hidden nodes we want (remember that for this particular problem the network must have 10 output nodes). \n",
        "\n",
        "This function will be particularly useful for the hyperparameter tuning."
      ],
      "metadata": {
        "id": "RTbrKmqtsviU"
      }
    },
    {
      "cell_type": "code",
      "source": [
        "def create_model(hidden_nodes : int, activation : str):\n",
        "  model = None\n",
        "  try:\n",
        "    model = keras.Sequential(\n",
        "        [\n",
        "          layers.Dense(units = hidden_nodes, activation = activation, input_shape = (784,) ,name = \"hidden_layer\"),\n",
        "          layers.Dense(units = 10, name = \"output_layer\"),\n",
        "          layers.Softmax()\n",
        "        ]\n",
        "    )\n",
        "  except ValueError:\n",
        "    print(\"Unknown activation function passed. Look on the doc for available activation functions.\")\n",
        "  \n",
        "  return model"
      ],
      "metadata": {
        "id": "6J-YDstJsdDM"
      },
      "execution_count": 25,
      "outputs": []
    },
    {
      "cell_type": "code",
      "source": [
        "# Prepare the data\n",
        "# Getting the validation set\n",
        "train_x, val_x, train_y, val_y = train_test_split(train_x, train_y, test_size = 0.2, stratify = train_y, shuffle = True)\n",
        "train_x, val_x = train_x.reshape((-1, 784)), val_x.reshape((-1, 784))\n",
        "print(f\"Train size = {train_x.shape}, Validation size = {val_x.shape}\")\n",
        "\n",
        "# Rescaling pixels\n",
        "minmax = lambda x : x / 255.\n",
        "train_x, val_x, test_x = minmax(train_x), minmax(val_x), minmax(test_x)\n",
        "\n",
        "# Create keras dataset\n",
        "train_dataset = tf.data.Dataset.from_tensor_slices((train_x, train_y))\n",
        "train_dataset = train_dataset.shuffle(buffer_size = 1024).batch(64)\n",
        "\n",
        "val_dataset = tf.data.Dataset.from_tensor_slices((val_x, val_y))\n",
        "val_dataset = val_dataset.batch(64)\n",
        "\n",
        "test_x = test_x.reshape((-1, 784))\n",
        "test_dataset = tf.data.Dataset.from_tensor_slices((test_x, test_y))\n",
        "test_dataset = test_dataset.batch(64)"
      ],
      "metadata": {
        "colab": {
          "base_uri": "https://localhost:8080/"
        },
        "id": "VRfGAaEa8Kie",
        "outputId": "6f361d8d-4f4c-48cf-b87a-918b26b72bdf"
      },
      "execution_count": 26,
      "outputs": [
        {
          "output_type": "stream",
          "name": "stdout",
          "text": [
            "Train size = (48000, 784), Validation size = (12000, 784)\n"
          ]
        }
      ]
    },
    {
      "cell_type": "code",
      "source": [
        "# Run the model on gpu\n",
        "device_name = tf.test.gpu_device_name()\n",
        "\n",
        "with tf.device(device_name):\n",
        "  shallow = create_model(100, \"sigmoid\")\n",
        "  # Compile the model\n",
        "  shallow.compile(\n",
        "      optimizer = keras.optimizers.Adam(learning_rate = 0.001),\n",
        "      loss = keras.losses.SparseCategoricalCrossentropy(),\n",
        "      metrics = keras.metrics.SparseCategoricalAccuracy()\n",
        "  )\n",
        "  # Train the model\n",
        "  history = shallow.fit(\n",
        "        x = train_dataset,\n",
        "        epochs = 25,\n",
        "        validation_data = val_dataset\n",
        "  )"
      ],
      "metadata": {
        "colab": {
          "base_uri": "https://localhost:8080/"
        },
        "id": "wRpiN7EEv2To",
        "outputId": "93edf8b3-7e92-4961-bf29-341522f5a1f4"
      },
      "execution_count": 28,
      "outputs": [
        {
          "output_type": "stream",
          "name": "stdout",
          "text": [
            "Epoch 1/25\n",
            "750/750 [==============================] - 3s 3ms/step - loss: 0.5609 - sparse_categorical_accuracy: 0.8652 - val_loss: 0.3109 - val_sparse_categorical_accuracy: 0.9153\n",
            "Epoch 2/25\n",
            "750/750 [==============================] - 2s 3ms/step - loss: 0.2647 - sparse_categorical_accuracy: 0.9258 - val_loss: 0.2430 - val_sparse_categorical_accuracy: 0.9300\n",
            "Epoch 3/25\n",
            "750/750 [==============================] - 2s 3ms/step - loss: 0.2086 - sparse_categorical_accuracy: 0.9412 - val_loss: 0.2027 - val_sparse_categorical_accuracy: 0.9421\n",
            "Epoch 4/25\n",
            "750/750 [==============================] - 2s 3ms/step - loss: 0.1729 - sparse_categorical_accuracy: 0.9506 - val_loss: 0.1794 - val_sparse_categorical_accuracy: 0.9486\n",
            "Epoch 5/25\n",
            "750/750 [==============================] - 2s 3ms/step - loss: 0.1471 - sparse_categorical_accuracy: 0.9581 - val_loss: 0.1565 - val_sparse_categorical_accuracy: 0.9547\n",
            "Epoch 6/25\n",
            "750/750 [==============================] - 2s 3ms/step - loss: 0.1272 - sparse_categorical_accuracy: 0.9640 - val_loss: 0.1452 - val_sparse_categorical_accuracy: 0.9572\n",
            "Epoch 7/25\n",
            "750/750 [==============================] - 2s 3ms/step - loss: 0.1113 - sparse_categorical_accuracy: 0.9690 - val_loss: 0.1341 - val_sparse_categorical_accuracy: 0.9602\n",
            "Epoch 8/25\n",
            "750/750 [==============================] - 2s 3ms/step - loss: 0.0985 - sparse_categorical_accuracy: 0.9728 - val_loss: 0.1243 - val_sparse_categorical_accuracy: 0.9633\n",
            "Epoch 9/25\n",
            "750/750 [==============================] - 2s 3ms/step - loss: 0.0872 - sparse_categorical_accuracy: 0.9759 - val_loss: 0.1165 - val_sparse_categorical_accuracy: 0.9668\n",
            "Epoch 10/25\n",
            "750/750 [==============================] - 2s 3ms/step - loss: 0.0780 - sparse_categorical_accuracy: 0.9787 - val_loss: 0.1109 - val_sparse_categorical_accuracy: 0.9677\n",
            "Epoch 11/25\n",
            "750/750 [==============================] - 2s 3ms/step - loss: 0.0697 - sparse_categorical_accuracy: 0.9814 - val_loss: 0.1074 - val_sparse_categorical_accuracy: 0.9679\n",
            "Epoch 12/25\n",
            "750/750 [==============================] - 2s 3ms/step - loss: 0.0625 - sparse_categorical_accuracy: 0.9839 - val_loss: 0.1027 - val_sparse_categorical_accuracy: 0.9696\n",
            "Epoch 13/25\n",
            "750/750 [==============================] - 2s 3ms/step - loss: 0.0561 - sparse_categorical_accuracy: 0.9857 - val_loss: 0.1001 - val_sparse_categorical_accuracy: 0.9693\n",
            "Epoch 14/25\n",
            "750/750 [==============================] - 2s 3ms/step - loss: 0.0501 - sparse_categorical_accuracy: 0.9874 - val_loss: 0.0989 - val_sparse_categorical_accuracy: 0.9699\n",
            "Epoch 15/25\n",
            "750/750 [==============================] - 2s 3ms/step - loss: 0.0452 - sparse_categorical_accuracy: 0.9887 - val_loss: 0.0949 - val_sparse_categorical_accuracy: 0.9711\n",
            "Epoch 16/25\n",
            "750/750 [==============================] - 2s 3ms/step - loss: 0.0406 - sparse_categorical_accuracy: 0.9902 - val_loss: 0.0931 - val_sparse_categorical_accuracy: 0.9709\n",
            "Epoch 17/25\n",
            "750/750 [==============================] - 2s 3ms/step - loss: 0.0362 - sparse_categorical_accuracy: 0.9917 - val_loss: 0.0926 - val_sparse_categorical_accuracy: 0.9712\n",
            "Epoch 18/25\n",
            "750/750 [==============================] - 2s 3ms/step - loss: 0.0325 - sparse_categorical_accuracy: 0.9930 - val_loss: 0.0911 - val_sparse_categorical_accuracy: 0.9722\n",
            "Epoch 19/25\n",
            "750/750 [==============================] - 2s 3ms/step - loss: 0.0290 - sparse_categorical_accuracy: 0.9940 - val_loss: 0.0911 - val_sparse_categorical_accuracy: 0.9722\n",
            "Epoch 20/25\n",
            "750/750 [==============================] - 2s 3ms/step - loss: 0.0258 - sparse_categorical_accuracy: 0.9954 - val_loss: 0.0897 - val_sparse_categorical_accuracy: 0.9721\n",
            "Epoch 21/25\n",
            "750/750 [==============================] - 2s 3ms/step - loss: 0.0232 - sparse_categorical_accuracy: 0.9959 - val_loss: 0.0903 - val_sparse_categorical_accuracy: 0.9719\n",
            "Epoch 22/25\n",
            "750/750 [==============================] - 2s 3ms/step - loss: 0.0206 - sparse_categorical_accuracy: 0.9970 - val_loss: 0.0901 - val_sparse_categorical_accuracy: 0.9722\n",
            "Epoch 23/25\n",
            "750/750 [==============================] - 2s 3ms/step - loss: 0.0181 - sparse_categorical_accuracy: 0.9975 - val_loss: 0.0896 - val_sparse_categorical_accuracy: 0.9730\n",
            "Epoch 24/25\n",
            "750/750 [==============================] - 2s 3ms/step - loss: 0.0160 - sparse_categorical_accuracy: 0.9980 - val_loss: 0.0895 - val_sparse_categorical_accuracy: 0.9728\n",
            "Epoch 25/25\n",
            "750/750 [==============================] - 2s 3ms/step - loss: 0.0142 - sparse_categorical_accuracy: 0.9983 - val_loss: 0.0897 - val_sparse_categorical_accuracy: 0.9734\n"
          ]
        }
      ]
    },
    {
      "cell_type": "code",
      "source": [
        "# Loss plot\n",
        "train_loss, val_loss = history.history[\"loss\"], history.history[\"val_loss\"]\n",
        "train_acc, val_acc = history.history[\"sparse_categorical_accuracy\"], history.history[\"val_sparse_categorical_accuracy\"]\n",
        "eps = list(range(25))\n",
        "\n",
        "fig, ax = plt.subplots(1, 2)\n",
        "fig.subplots_adjust(wspace=0.5)\n",
        "figure(figsize=(10, 8), dpi=200);\n",
        "\n",
        "# Plot 1\n",
        "l1, = ax[0].plot(eps, train_loss, color = \"blue\", label = \"Training\")\n",
        "l2, = ax[0].plot(eps, val_loss, color = \"red\", label = \"Validation\")\n",
        "ax[0].legend(handles = [l1, l2])\n",
        "ax[0].set_title(\"Training loss v. Validation loss\\n\");\n",
        "ax[0].set_xlabel(\"Epochs\");\n",
        "ax[0].set_ylabel(\"Loss\");\n",
        "\n",
        "# Plot 2\n",
        "l3, = ax[1].plot(eps, train_acc, color = \"blue\", label = \"Training\")\n",
        "l4, = ax[1].plot(eps, val_acc, color = \"red\", label = \"Validation\")\n",
        "ax[1].legend(handles = [l3, l4])\n",
        "ax[1].set_title(\"Training acc v. Validation acc\\n\");\n",
        "ax[1].set_xlabel(\"Epochs\");\n",
        "ax[1].set_ylabel(\"Accuracy\");"
      ],
      "metadata": {
        "colab": {
          "base_uri": "https://localhost:8080/",
          "height": 327
        },
        "id": "YaZmvPPAIqEN",
        "outputId": "41efd8b2-8712-4054-9a13-ddafc37f39b6"
      },
      "execution_count": 76,
      "outputs": [
        {
          "output_type": "display_data",
          "data": {
            "text/plain": [
              "<Figure size 432x288 with 2 Axes>"
            ],
            "image/png": "[encoded data removed]"
          },
          "metadata": {
            "needs_background": "light"
          }
        },
        {
          "output_type": "display_data",
          "data": {
            "text/plain": [
              "<Figure size 2000x1600 with 0 Axes>"
            ]
          },
          "metadata": {}
        }
      ]
    },
    {
      "cell_type": "code",
      "source": [
        "# Evaluation on test set\n",
        "with tf.device(device_name):\n",
        "  result = shallow.evaluate(test_dataset, verbose = False)\n",
        "  print(\n",
        "      \"Test set loss : {:.4f}\\nTest set accuracy : {:.2f}%\".format(result[0], result[1]*100)\n",
        "  )"
      ],
      "metadata": {
        "colab": {
          "base_uri": "https://localhost:8080/"
        },
        "id": "7zUoZRTdN2wP",
        "outputId": "b5164eef-6ab8-4c2d-b24c-6e5e0dc8faa9"
      },
      "execution_count": 83,
      "outputs": [
        {
          "output_type": "stream",
          "name": "stdout",
          "text": [
            "Test set loss : 0.0842\n",
            "Test set accuracy : 97.52%\n"
          ]
        }
      ]
    }
  ]
}